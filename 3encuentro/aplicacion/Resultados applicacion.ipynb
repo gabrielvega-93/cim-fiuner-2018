{
 "cells": [
  {
   "cell_type": "code",
   "execution_count": 1,
   "metadata": {},
   "outputs": [],
   "source": [
    "import numpy as np\n",
    "import matplotlib.pyplot as plt\n",
    "%matplotlib inline\n",
    "\n",
    "fname = 'z-dose.dat'"
   ]
  },
  {
   "cell_type": "code",
   "execution_count": 23,
   "metadata": {},
   "outputs": [],
   "source": [
    "f = open(fname, 'r')\n",
    "n = 0\n",
    "info = []\n",
    "data = []\n",
    "for line in f:\n",
    "    if n <= 5:\n",
    "        info.append(line[:-1])\n",
    "    else:\n",
    "        data.append(line[:-1])\n",
    "    n = n + 1\n",
    "info = info[:-1]    "
   ]
  },
  {
   "cell_type": "code",
   "execution_count": 27,
   "metadata": {},
   "outputs": [
    {
     "data": {
      "text/plain": [
       "([' #  Results from PENMAIN.',\n",
       "  ' #  Dose distribution along the central Z axis',\n",
       "  ' #  1st column: z (cm).',\n",
       "  ' #  2nd column: dose (eV/g).',\n",
       "  ' #  3rd column: statistical uncertainty (3 sigma).'],\n",
       " ['   9.900990E-02  5.407577E+07  5.200243E+04',\n",
       "  '   2.970297E-01  2.131233E+07  8.249158E+04',\n",
       "  '   4.950495E-01  3.748043E+05  9.466317E+03',\n",
       "  '   6.930693E-01  3.217600E+02  1.830719E+02',\n",
       "  '   8.910891E-01  1.006655E+02  5.316819E+01'])"
      ]
     },
     "execution_count": 27,
     "metadata": {},
     "output_type": "execute_result"
    }
   ],
   "source": [
    "info, data[:5]"
   ]
  },
  {
   "cell_type": "code",
   "execution_count": 33,
   "metadata": {},
   "outputs": [],
   "source": [
    "z = [float(data[i].split()[0]) for i in range(len(data))]\n",
    "dose = [float(data[i].split()[1]) for i in range(len(data))]\n",
    "err = [float(data[i].split()[2]) for i in range(len(data))]"
   ]
  },
  {
   "cell_type": "code",
   "execution_count": 37,
   "metadata": {},
   "outputs": [
    {
     "data": {
      "image/png": "[encoded data removed]",
      "text/plain": [
       "<Figure size 432x288 with 1 Axes>"
      ]
     },
     "metadata": {},
     "output_type": "display_data"
    }
   ],
   "source": [
    "plt.errorbar(z[:6], dose[:6], yerr=err[:6])\n",
    "plt.show()"
   ]
  },
  {
   "cell_type": "code",
   "execution_count": null,
   "metadata": {},
   "outputs": [],
   "source": []
  }
 ],
 "metadata": {
  "kernelspec": {
   "display_name": "Python 3",
   "language": "python",
   "name": "python3"
  },
  "language_info": {
   "codemirror_mode": {
    "name": "ipython",
    "version": 3
   },
   "file_extension": ".py",
   "mimetype": "text/x-python",
   "name": "python",
   "nbconvert_exporter": "python",
   "pygments_lexer": "ipython3",
   "version": "3.6.4"
  }
 },
 "nbformat": 4,
 "nbformat_minor": 2
}
